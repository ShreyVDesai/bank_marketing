{
 "cells": [
  {
   "cell_type": "markdown",
   "metadata": {},
   "source": [
    "# NAME:SHREY DESAI\n",
    "## SAP ID:60002180106"
   ]
  },
  {
   "cell_type": "code",
   "execution_count": 6,
   "metadata": {
    "scrolled": true
   },
   "outputs": [
    {
     "name": "stdout",
     "output_type": "stream",
     "text": [
      "\n",
      "Total number of missing values of the said DataFrame:\n",
      "0\n"
     ]
    }
   ],
   "source": [
    "#The total number of missing values in the dataframe is:\n",
    "import numpy as np\n",
    "import pandas as pd\n",
    "pd.set_option('display.max_rows', None)\n",
    "#pd.set_option('display.max_columns', None)\n",
    "df = pd.read_csv (r'bank_marketing.csv') \n",
    "print(\"\\nTotal number of missing values of the said DataFrame:\")\n",
    "result = df.isna().sum().sum()\n",
    "print(result)"
   ]
  },
  {
   "cell_type": "code",
   "execution_count": 5,
   "metadata": {},
   "outputs": [
    {
     "data": {
      "text/plain": [
       "Unnamed: 0     int64\n",
       "age            int64\n",
       "job           object\n",
       "marital       object\n",
       "education     object\n",
       "default       object\n",
       "balance        int64\n",
       "housing       object\n",
       "loan          object\n",
       "contact       object\n",
       "day            int64\n",
       "month         object\n",
       "duration       int64\n",
       "campaign       int64\n",
       "pdays          int64\n",
       "previous       int64\n",
       "poutcome      object\n",
       "deposit       object\n",
       "dtype: object"
      ]
     },
     "execution_count": 5,
     "metadata": {},
     "output_type": "execute_result"
    }
   ],
   "source": [
    "#How many parameters have datatype as float64\n",
    "df.dtypes"
   ]
  },
  {
   "cell_type": "code",
   "execution_count": 6,
   "metadata": {},
   "outputs": [
    {
     "name": "stdout",
     "output_type": "stream",
     "text": [
      "\n",
      "Total number of duplicated rows is\n"
     ]
    },
    {
     "data": {
      "text/plain": [
       "0"
      ]
     },
     "execution_count": 6,
     "metadata": {},
     "output_type": "execute_result"
    }
   ],
   "source": [
    "#The total number of duplicated rows in the dataframe is\n",
    "print(\"\\nTotal number of duplicated rows is\")\n",
    "len(df)-len(df.drop_duplicates())\n"
   ]
  },
  {
   "cell_type": "code",
   "execution_count": 8,
   "metadata": {},
   "outputs": [
    {
     "data": {
      "image/png": "[encoded data removed]",
      "text/plain": [
       "<Figure size 432x288 with 1 Axes>"
      ]
     },
     "metadata": {
      "needs_background": "light"
     },
     "output_type": "display_data"
    }
   ],
   "source": [
    "#Generate a scatter plot of “age” and “balance” and choose which of the interpretation given below is correct?\n",
    "import matplotlib.pyplot as plt\n",
    "plt.scatter(x=\"age\" , y=\"balance\" , data=df)\n",
    "plt.title(\"Scatterplot\")\n",
    "plt.xlabel('Age')\n",
    "plt.ylabel('Balance')\n",
    "plt.show()"
   ]
  },
  {
   "cell_type": "code",
   "execution_count": 28,
   "metadata": {},
   "outputs": [
    {
     "name": "stdout",
     "output_type": "stream",
     "text": [
      "32.0\n",
      "49.0\n"
     ]
    },
    {
     "data": {
      "text/plain": [
       "array([75, 76, 77, 78, 79, 80, 81, 82, 83, 84, 86, 87, 88, 89, 92, 93])"
      ]
     },
     "execution_count": 28,
     "metadata": {},
     "output_type": "execute_result"
    }
   ],
   "source": [
    "data=df['age']\n",
    "q1=np.percentile(data,25)\n",
    "q3=np.percentile(data,75)\n",
    "print(q1)\n",
    "print(q3)\n",
    "iqr=q3-q1\n",
    "iqr\n",
    "lb=q1-(1.5*iqr)\n",
    "ub=q3+(1.5*iqr)\n",
    "lb,ub\n",
    "outliers=[]\n",
    "def detect_outliers(data):\n",
    "    for i in data:\n",
    "        if i<=lb or i>=ub:\n",
    "            outliers.append(i)\n",
    "    return outliers\n",
    "out=np.unique(detect_outliers(df['age']))\n",
    "out"
   ]
  },
  {
   "cell_type": "code",
   "execution_count": 11,
   "metadata": {},
   "outputs": [
    {
     "name": "stdout",
     "output_type": "stream",
     "text": [
      "\n",
      " Count of unique education levels in the dataset\n",
      "4\n",
      "\n",
      " Count of clients completed tertiary education\n",
      "1871\n"
     ]
    }
   ],
   "source": [
    "#What is the count of unique education levels in the data and find out how many clients have completed tertiary education?\n",
    "n = len(pd.unique(df['education']))\n",
    "print(\"\\n Count of unique education levels in the dataset\")\n",
    "print(n)\n",
    "cnt = df.education.value_counts()['tertiary']\n",
    "print(\"\\n Count of clients completed tertiary education\")\n",
    "print(cnt)"
   ]
  },
  {
   "cell_type": "code",
   "execution_count": 10,
   "metadata": {},
   "outputs": [
    {
     "data": {
      "text/plain": [
       "education  deposit\n",
       "primary    no          444\n",
       "           yes         302\n",
       "secondary  no         1535\n",
       "           yes        1184\n",
       "tertiary   no          852\n",
       "           yes        1019\n",
       "unknown    no          128\n",
       "           yes         117\n",
       "dtype: int64"
      ]
     },
     "execution_count": 10,
     "metadata": {},
     "output_type": "execute_result"
    }
   ],
   "source": [
    "#How many  clients having secondary education  & have not subscribed to deposit?\n",
    "df.pivot_table(index=['education','deposit'], aggfunc='size')"
   ]
  },
  {
   "cell_type": "code",
   "execution_count": 9,
   "metadata": {},
   "outputs": [
    {
     "data": {
      "text/plain": [
       "(5581, 17)"
      ]
     },
     "execution_count": 9,
     "metadata": {},
     "output_type": "execute_result"
    }
   ],
   "source": [
    "#What is the shape of dataset after dropping \"Unnamed \"\n",
    "for col in df.columns: \n",
    "    if 'Unnamed' in col: \n",
    "        del df[col]\n",
    "df.shape  "
   ]
  },
  {
   "cell_type": "code",
   "execution_count": 11,
   "metadata": {},
   "outputs": [
    {
     "name": "stdout",
     "output_type": "stream",
     "text": [
      "1318\n",
      "5581\n",
      "0.2361583945529475\n"
     ]
    }
   ],
   "source": [
    "#What is the probability that client is doing 'management' job & having loan is yes or no\n",
    "mgmt = df['job'].value_counts()['management']\n",
    "print(mgmt)\n",
    "all = df['job'].size\n",
    "print(all)\n",
    "print(mgmt/all)"
   ]
  },
  {
   "cell_type": "code",
   "execution_count": 12,
   "metadata": {},
   "outputs": [
    {
     "data": {
      "text/plain": [
       "no     53.019172\n",
       "yes    46.980828\n",
       "Name: deposit, dtype: float64"
      ]
     },
     "execution_count": 12,
     "metadata": {},
     "output_type": "execute_result"
    }
   ],
   "source": [
    "#What is the percentage split of the categories in the column “deposit”?\n",
    "df['deposit'].value_counts(normalize='Yes') * 100"
   ]
  },
  {
   "cell_type": "code",
   "execution_count": 14,
   "metadata": {
    "scrolled": true
   },
   "outputs": [
    {
     "name": "stderr",
     "output_type": "stream",
     "text": [
      "C:\\Users\\Dell_Owner\\anaconda3\\lib\\site-packages\\seaborn\\_decorators.py:36: FutureWarning: Pass the following variable as a keyword arg: x. From version 0.12, the only valid positional argument will be `data`, and passing other arguments without an explicit keyword will result in an error or misinterpretation.\n",
      "  warnings.warn(\n"
     ]
    },
    {
     "data": {
      "text/plain": [
       "542.0"
      ]
     },
     "execution_count": 14,
     "metadata": {},
     "output_type": "execute_result"
    },
    {
     "data": {
      "image/png": "[encoded data removed]",
      "text/plain": [
       "<Figure size 432x288 with 1 Axes>"
      ]
     },
     "metadata": {
      "needs_background": "light"
     },
     "output_type": "display_data"
    }
   ],
   "source": [
    "#Plot boxplot & hence What is the median value of parameter balance\n",
    "import seaborn as sns\n",
    "sns.boxplot(df['balance']).set_title('Box plot of balance')\n",
    "np.median(df.balance)"
   ]
  },
  {
   "cell_type": "code",
   "execution_count": 15,
   "metadata": {},
   "outputs": [
    {
     "data": {
      "text/plain": [
       "job            deposit\n",
       "admin.         no         355\n",
       "               yes        306\n",
       "blue-collar    no         629\n",
       "               yes        346\n",
       "entrepreneur   no         105\n",
       "               yes         55\n",
       "housemaid      no          83\n",
       "               yes         60\n",
       "management     no         649\n",
       "               yes        669\n",
       "retired        no         142\n",
       "               yes        255\n",
       "self-employed  no         103\n",
       "               yes        103\n",
       "services       no         263\n",
       "               yes        189\n",
       "student        no          53\n",
       "               yes        129\n",
       "technician     no         481\n",
       "               yes        406\n",
       "unemployed     no          78\n",
       "               yes         92\n",
       "unknown        no          18\n",
       "               yes         12\n",
       "dtype: int64"
      ]
     },
     "execution_count": 15,
     "metadata": {},
     "output_type": "execute_result"
    }
   ],
   "source": [
    "#How many unemployed clients have  subscribed to deposit\n",
    "df.pivot_table(index=['job','deposit'], aggfunc='size')"
   ]
  },
  {
   "cell_type": "code",
   "execution_count": 22,
   "metadata": {},
   "outputs": [
    {
     "data": {
      "text/plain": [
       "(0, 17)"
      ]
     },
     "execution_count": 22,
     "metadata": {},
     "output_type": "execute_result"
    }
   ],
   "source": [
    "#Find rows & columns having missing value & hence What is the shape of the missing\n",
    "missing = df[df.isnull().any(axis=1)]\n",
    "missing.shape\n",
    "#add 1 to coloumn as Unnamed is deleted"
   ]
  },
  {
   "cell_type": "code",
   "execution_count": 30,
   "metadata": {},
   "outputs": [
    {
     "name": "stdout",
     "output_type": "stream",
     "text": [
      "38.97225093208752 39.937423067912476\n"
     ]
    }
   ],
   "source": [
    "# WAP to find Confidence Interval of mean of age for Population (Client with Tertiary Education) \n",
    "agg_values = df.groupby(\"education\").agg({\"age\" : [np.mean,np.std,np.size]})\n",
    "agg_values\n",
    "mean_ter = 39.454837\n",
    "std_ter = 10.650147\n",
    "size_ter = 1871\n",
    "z = 1.96\n",
    "value = std_ter / np.sqrt(size_ter)\n",
    "lcb = mean_ter - z * value\n",
    "ucb = mean_ter + z * value\n",
    "print(lcb,ucb)\n"
   ]
  },
  {
   "cell_type": "code",
   "execution_count": null,
   "metadata": {},
   "outputs": [],
   "source": []
  }
 ],
 "metadata": {
  "kernelspec": {
   "display_name": "Python 3",
   "language": "python",
   "name": "python3"
  },
  "language_info": {
   "codemirror_mode": {
    "name": "ipython",
    "version": 3
   },
   "file_extension": ".py",
   "mimetype": "text/x-python",
   "name": "python",
   "nbconvert_exporter": "python",
   "pygments_lexer": "ipython3",
   "version": "3.8.5"
  }
 },
 "nbformat": 4,
 "nbformat_minor": 4
}
